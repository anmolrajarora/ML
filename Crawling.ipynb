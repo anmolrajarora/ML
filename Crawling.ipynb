{
 "cells": [
  {
   "cell_type": "markdown",
   "metadata": {},
   "source": [
    "bs4 - get data from a webpage,\n",
    "urllib.request - request a webpage by specifying its url\n",
    "\n",
    "1. to get the webpage by specifying its url\n",
    "2. check if some response is coming or not\n",
    "3. if response is coming, pass this response to bs4\n",
    "4. use the bs4 object to get the html\n",
    "5. find the tag that is needed to extract the data from html"
   ]
  },
  {
   "cell_type": "code",
   "execution_count": 61,
   "metadata": {},
   "outputs": [],
   "source": [
    "import bs4\n",
    "import urllib.request as req\n",
    "import numpy as np\n",
    "import pandas as pd"
   ]
  },
  {
   "cell_type": "code",
   "execution_count": 2,
   "metadata": {},
   "outputs": [],
   "source": [
    "response = req.urlopen('https://www.usgs.gov/natural-hazards/earthquake-hazards/lists-maps-and-statistics')"
   ]
  },
  {
   "cell_type": "code",
   "execution_count": 3,
   "metadata": {},
   "outputs": [
    {
     "data": {
      "text/plain": [
       "<http.client.HTTPResponse at 0x10e87dbe0>"
      ]
     },
     "execution_count": 3,
     "metadata": {},
     "output_type": "execute_result"
    }
   ],
   "source": [
    "response"
   ]
  },
  {
   "cell_type": "code",
   "execution_count": 4,
   "metadata": {},
   "outputs": [],
   "source": [
    "html = bs4.BeautifulSoup(response)"
   ]
  },
  {
   "cell_type": "code",
   "execution_count": 5,
   "metadata": {},
   "outputs": [
    {
     "data": {
      "text/plain": [
       "bs4.BeautifulSoup"
      ]
     },
     "execution_count": 5,
     "metadata": {},
     "output_type": "execute_result"
    }
   ],
   "source": [
    "type(html)"
   ]
  },
  {
   "cell_type": "code",
   "execution_count": 6,
   "metadata": {},
   "outputs": [
    {
     "data": {
      "text/plain": [
       "http.client.HTTPResponse"
      ]
     },
     "execution_count": 6,
     "metadata": {},
     "output_type": "execute_result"
    }
   ],
   "source": [
    "type(response)"
   ]
  },
  {
   "cell_type": "code",
   "execution_count": 8,
   "metadata": {},
   "outputs": [],
   "source": [
    "table = html.find('table')"
   ]
  },
  {
   "cell_type": "code",
   "execution_count": 9,
   "metadata": {},
   "outputs": [
    {
     "name": "stdout",
     "output_type": "stream",
     "text": [
      "<table class=\"table table-striped\"><thead><tr><th>Magnitude</th>\n",
      "<th>2000</th>\n",
      "<th>2001</th>\n",
      "<th>2002</th>\n",
      "<th>2003</th>\n",
      "<th>2004</th>\n",
      "<th>2005</th>\n",
      "<th>2006</th>\n",
      "<th>2007</th>\n",
      "<th>2008</th>\n",
      "<th>2009</th>\n",
      "<th>2010</th>\n",
      "<th>2011</th>\n",
      "<th>2012</th>\n",
      "<th>2013</th>\n",
      "<th>2014</th>\n",
      "<th>2015</th>\n",
      "<th>2016</th>\n",
      "<th>2017</th>\n",
      "<th>2018</th>\n",
      "<th>2019</th>\n",
      "</tr></thead><tbody><tr><th scope=\"row\">8.0+</th>\n",
      "<td>1</td>\n",
      "<td>1</td>\n",
      "<td>0</td>\n",
      "<td>1</td>\n",
      "<td>2</td>\n",
      "<td>1</td>\n",
      "<td>2</td>\n",
      "<td>4</td>\n",
      "<td>0</td>\n",
      "<td>1</td>\n",
      "<td>1</td>\n",
      "<td>1</td>\n",
      "<td>2</td>\n",
      "<td>2</td>\n",
      "<td>1</td>\n",
      "<td>1</td>\n",
      "<td>0</td>\n",
      "<td>1</td>\n",
      "<td>1</td>\n",
      "<td>1</td>\n",
      "</tr><tr><th scope=\"row\">7–7.9</th>\n",
      "<td>14</td>\n",
      "<td>15</td>\n",
      "<td>13</td>\n",
      "<td>14</td>\n",
      "<td>14</td>\n",
      "<td>10</td>\n",
      "<td>9</td>\n",
      "<td>14</td>\n",
      "<td>12</td>\n",
      "<td>16</td>\n",
      "<td>23</td>\n",
      "<td>19</td>\n",
      "<td>12</td>\n",
      "<td>17</td>\n",
      "<td>11</td>\n",
      "<td>18</td>\n",
      "<td>16</td>\n",
      "<td>6</td>\n",
      "<td>16</td>\n",
      "<td>9</td>\n",
      "</tr><tr><th scope=\"row\">6–6.9</th>\n",
      "<td>146</td>\n",
      "<td>121</td>\n",
      "<td>127</td>\n",
      "<td>140</td>\n",
      "<td>141</td>\n",
      "<td>140</td>\n",
      "<td>142</td>\n",
      "<td>178</td>\n",
      "<td>168</td>\n",
      "<td>144</td>\n",
      "<td>150</td>\n",
      "<td>185</td>\n",
      "<td>108</td>\n",
      "<td>123</td>\n",
      "<td>143</td>\n",
      "<td>127</td>\n",
      "<td>130</td>\n",
      "<td>104</td>\n",
      "<td>117</td>\n",
      "<td>135</td>\n",
      "</tr><tr><th scope=\"row\">5–5.9</th>\n",
      "<td>1344</td>\n",
      "<td>1224</td>\n",
      "<td>1201</td>\n",
      "<td>1203</td>\n",
      "<td>1515</td>\n",
      "<td>1693</td>\n",
      "<td>1712</td>\n",
      "<td>2074</td>\n",
      "<td>1768</td>\n",
      "<td>1896</td>\n",
      "<td>2209</td>\n",
      "<td>2276</td>\n",
      "<td>1401</td>\n",
      "<td>1453</td>\n",
      "<td>1574</td>\n",
      "<td>1419</td>\n",
      "<td>1550</td>\n",
      "<td>1455</td>\n",
      "<td>1674</td>\n",
      "<td>1492</td>\n",
      "</tr><tr><th scope=\"row\">Estimated<br/>Deaths</th>\n",
      "<td>231</td>\n",
      "<td>21357</td>\n",
      "<td>1685</td>\n",
      "<td>33819</td>\n",
      "<td>298101</td>\n",
      "<td>87992</td>\n",
      "<td>6605</td>\n",
      "<td>708</td>\n",
      "<td>88708</td>\n",
      "<td>1790</td>\n",
      "<td>226050</td>\n",
      "<td>21942</td>\n",
      "<td>689</td>\n",
      "<td>1572</td>\n",
      "<td>756</td>\n",
      "<td>9624</td>\n",
      "<td> </td>\n",
      "<td> </td>\n",
      "<td> </td>\n",
      "<td> </td>\n",
      "</tr></tbody></table>\n"
     ]
    }
   ],
   "source": [
    "print(table)"
   ]
  },
  {
   "cell_type": "code",
   "execution_count": 12,
   "metadata": {},
   "outputs": [],
   "source": [
    "headings = table.find_all('th')"
   ]
  },
  {
   "cell_type": "code",
   "execution_count": 14,
   "metadata": {},
   "outputs": [
    {
     "data": {
      "text/plain": [
       "[<th>Magnitude</th>,\n",
       " <th>2000</th>,\n",
       " <th>2001</th>,\n",
       " <th>2002</th>,\n",
       " <th>2003</th>,\n",
       " <th>2004</th>,\n",
       " <th>2005</th>,\n",
       " <th>2006</th>,\n",
       " <th>2007</th>,\n",
       " <th>2008</th>,\n",
       " <th>2009</th>,\n",
       " <th>2010</th>,\n",
       " <th>2011</th>,\n",
       " <th>2012</th>,\n",
       " <th>2013</th>,\n",
       " <th>2014</th>,\n",
       " <th>2015</th>,\n",
       " <th>2016</th>,\n",
       " <th>2017</th>,\n",
       " <th>2018</th>,\n",
       " <th>2019</th>,\n",
       " <th scope=\"row\">8.0+</th>,\n",
       " <th scope=\"row\">7–7.9</th>,\n",
       " <th scope=\"row\">6–6.9</th>,\n",
       " <th scope=\"row\">5–5.9</th>,\n",
       " <th scope=\"row\">Estimated<br/>Deaths</th>]"
      ]
     },
     "execution_count": 14,
     "metadata": {},
     "output_type": "execute_result"
    }
   ],
   "source": [
    "headings"
   ]
  },
  {
   "cell_type": "code",
   "execution_count": 15,
   "metadata": {},
   "outputs": [],
   "source": [
    "del headings[0]"
   ]
  },
  {
   "cell_type": "code",
   "execution_count": 16,
   "metadata": {},
   "outputs": [
    {
     "data": {
      "text/plain": [
       "[<th>2000</th>,\n",
       " <th>2001</th>,\n",
       " <th>2002</th>,\n",
       " <th>2003</th>,\n",
       " <th>2004</th>,\n",
       " <th>2005</th>,\n",
       " <th>2006</th>,\n",
       " <th>2007</th>,\n",
       " <th>2008</th>,\n",
       " <th>2009</th>,\n",
       " <th>2010</th>,\n",
       " <th>2011</th>,\n",
       " <th>2012</th>,\n",
       " <th>2013</th>,\n",
       " <th>2014</th>,\n",
       " <th>2015</th>,\n",
       " <th>2016</th>,\n",
       " <th>2017</th>,\n",
       " <th>2018</th>,\n",
       " <th>2019</th>,\n",
       " <th scope=\"row\">8.0+</th>,\n",
       " <th scope=\"row\">7–7.9</th>,\n",
       " <th scope=\"row\">6–6.9</th>,\n",
       " <th scope=\"row\">5–5.9</th>,\n",
       " <th scope=\"row\">Estimated<br/>Deaths</th>]"
      ]
     },
     "execution_count": 16,
     "metadata": {},
     "output_type": "execute_result"
    }
   ],
   "source": [
    "headings"
   ]
  },
  {
   "cell_type": "code",
   "execution_count": 20,
   "metadata": {},
   "outputs": [],
   "source": [
    "row_headings = headings[-5:]"
   ]
  },
  {
   "cell_type": "code",
   "execution_count": 26,
   "metadata": {},
   "outputs": [
    {
     "data": {
      "text/plain": [
       "[<th scope=\"row\">8.0+</th>,\n",
       " <th scope=\"row\">7–7.9</th>,\n",
       " <th scope=\"row\">6–6.9</th>,\n",
       " <th scope=\"row\">5–5.9</th>,\n",
       " <th scope=\"row\">Estimated<br/>Deaths</th>]"
      ]
     },
     "execution_count": 26,
     "metadata": {},
     "output_type": "execute_result"
    }
   ],
   "source": [
    "row_headings"
   ]
  },
  {
   "cell_type": "code",
   "execution_count": 23,
   "metadata": {},
   "outputs": [],
   "source": [
    "column_headings = headings[:-5]"
   ]
  },
  {
   "cell_type": "code",
   "execution_count": 24,
   "metadata": {},
   "outputs": [
    {
     "data": {
      "text/plain": [
       "[<th>2000</th>,\n",
       " <th>2001</th>,\n",
       " <th>2002</th>,\n",
       " <th>2003</th>,\n",
       " <th>2004</th>,\n",
       " <th>2005</th>,\n",
       " <th>2006</th>,\n",
       " <th>2007</th>,\n",
       " <th>2008</th>,\n",
       " <th>2009</th>,\n",
       " <th>2010</th>,\n",
       " <th>2011</th>,\n",
       " <th>2012</th>,\n",
       " <th>2013</th>,\n",
       " <th>2014</th>,\n",
       " <th>2015</th>,\n",
       " <th>2016</th>,\n",
       " <th>2017</th>,\n",
       " <th>2018</th>,\n",
       " <th>2019</th>]"
      ]
     },
     "execution_count": 24,
     "metadata": {},
     "output_type": "execute_result"
    }
   ],
   "source": [
    "column_headings"
   ]
  },
  {
   "cell_type": "code",
   "execution_count": 27,
   "metadata": {},
   "outputs": [],
   "source": [
    "for i in range(len(row_headings)):\n",
    "    row_headings[i] = row_headings[i].text"
   ]
  },
  {
   "cell_type": "code",
   "execution_count": 28,
   "metadata": {},
   "outputs": [
    {
     "data": {
      "text/plain": [
       "['8.0+', '7–7.9', '6–6.9', '5–5.9', 'EstimatedDeaths']"
      ]
     },
     "execution_count": 28,
     "metadata": {},
     "output_type": "execute_result"
    }
   ],
   "source": [
    "row_headings"
   ]
  },
  {
   "cell_type": "code",
   "execution_count": 29,
   "metadata": {},
   "outputs": [],
   "source": [
    "for i in range(len(column_headings)):\n",
    "    column_headings[i] = column_headings[i].text"
   ]
  },
  {
   "cell_type": "code",
   "execution_count": 31,
   "metadata": {},
   "outputs": [
    {
     "name": "stdout",
     "output_type": "stream",
     "text": [
      "['2000', '2001', '2002', '2003', '2004', '2005', '2006', '2007', '2008', '2009', '2010', '2011', '2012', '2013', '2014', '2015', '2016', '2017', '2018', '2019']\n"
     ]
    }
   ],
   "source": [
    "print(column_headings)"
   ]
  },
  {
   "cell_type": "code",
   "execution_count": 49,
   "metadata": {},
   "outputs": [],
   "source": [
    "data = table.find_all(\"td\")"
   ]
  },
  {
   "cell_type": "code",
   "execution_count": 50,
   "metadata": {},
   "outputs": [
    {
     "data": {
      "text/plain": [
       "100"
      ]
     },
     "execution_count": 50,
     "metadata": {},
     "output_type": "execute_result"
    }
   ],
   "source": [
    "len(data)"
   ]
  },
  {
   "cell_type": "code",
   "execution_count": 51,
   "metadata": {},
   "outputs": [
    {
     "data": {
      "text/plain": [
       "[<td>1</td>,\n",
       " <td>1</td>,\n",
       " <td>0</td>,\n",
       " <td>1</td>,\n",
       " <td>2</td>,\n",
       " <td>1</td>,\n",
       " <td>2</td>,\n",
       " <td>4</td>,\n",
       " <td>0</td>,\n",
       " <td>1</td>,\n",
       " <td>1</td>,\n",
       " <td>1</td>,\n",
       " <td>2</td>,\n",
       " <td>2</td>,\n",
       " <td>1</td>,\n",
       " <td>1</td>,\n",
       " <td>0</td>,\n",
       " <td>1</td>,\n",
       " <td>1</td>,\n",
       " <td>1</td>,\n",
       " <td>14</td>,\n",
       " <td>15</td>,\n",
       " <td>13</td>,\n",
       " <td>14</td>,\n",
       " <td>14</td>,\n",
       " <td>10</td>,\n",
       " <td>9</td>,\n",
       " <td>14</td>,\n",
       " <td>12</td>,\n",
       " <td>16</td>,\n",
       " <td>23</td>,\n",
       " <td>19</td>,\n",
       " <td>12</td>,\n",
       " <td>17</td>,\n",
       " <td>11</td>,\n",
       " <td>18</td>,\n",
       " <td>16</td>,\n",
       " <td>6</td>,\n",
       " <td>16</td>,\n",
       " <td>9</td>,\n",
       " <td>146</td>,\n",
       " <td>121</td>,\n",
       " <td>127</td>,\n",
       " <td>140</td>,\n",
       " <td>141</td>,\n",
       " <td>140</td>,\n",
       " <td>142</td>,\n",
       " <td>178</td>,\n",
       " <td>168</td>,\n",
       " <td>144</td>,\n",
       " <td>150</td>,\n",
       " <td>185</td>,\n",
       " <td>108</td>,\n",
       " <td>123</td>,\n",
       " <td>143</td>,\n",
       " <td>127</td>,\n",
       " <td>130</td>,\n",
       " <td>104</td>,\n",
       " <td>117</td>,\n",
       " <td>135</td>,\n",
       " <td>1344</td>,\n",
       " <td>1224</td>,\n",
       " <td>1201</td>,\n",
       " <td>1203</td>,\n",
       " <td>1515</td>,\n",
       " <td>1693</td>,\n",
       " <td>1712</td>,\n",
       " <td>2074</td>,\n",
       " <td>1768</td>,\n",
       " <td>1896</td>,\n",
       " <td>2209</td>,\n",
       " <td>2276</td>,\n",
       " <td>1401</td>,\n",
       " <td>1453</td>,\n",
       " <td>1574</td>,\n",
       " <td>1419</td>,\n",
       " <td>1550</td>,\n",
       " <td>1455</td>,\n",
       " <td>1674</td>,\n",
       " <td>1492</td>,\n",
       " <td>231</td>,\n",
       " <td>21357</td>,\n",
       " <td>1685</td>,\n",
       " <td>33819</td>,\n",
       " <td>298101</td>,\n",
       " <td>87992</td>,\n",
       " <td>6605</td>,\n",
       " <td>708</td>,\n",
       " <td>88708</td>,\n",
       " <td>1790</td>,\n",
       " <td>226050</td>,\n",
       " <td>21942</td>,\n",
       " <td>689</td>,\n",
       " <td>1572</td>,\n",
       " <td>756</td>,\n",
       " <td>9624</td>,\n",
       " <td> </td>,\n",
       " <td> </td>,\n",
       " <td> </td>,\n",
       " <td> </td>]"
      ]
     },
     "execution_count": 51,
     "metadata": {},
     "output_type": "execute_result"
    }
   ],
   "source": [
    "data"
   ]
  },
  {
   "cell_type": "code",
   "execution_count": 52,
   "metadata": {},
   "outputs": [],
   "source": [
    "for i in range(len(data)):\n",
    "    data[i] = data[i].text"
   ]
  },
  {
   "cell_type": "code",
   "execution_count": 53,
   "metadata": {},
   "outputs": [
    {
     "name": "stdout",
     "output_type": "stream",
     "text": [
      "['1', '1', '0', '1', '2', '1', '2', '4', '0', '1', '1', '1', '2', '2', '1', '1', '0', '1', '1', '1', '14', '15', '13', '14', '14', '10', '9', '14', '12', '16', '23', '19', '12', '17', '11', '18', '16', '6', '16', '9', '146', '121', '127', '140', '141', '140', '142', '178', '168', '144', '150', '185', '108', '123', '143', '127', '130', '104', '117', '135', '1344', '1224', '1201', '1203', '1515', '1693', '1712', '2074', '1768', '1896', '2209', '2276', '1401', '1453', '1574', '1419', '1550', '1455', '1674', '1492', '231', '21357', '1685', '33819', '298101', '87992', '6605', '708', '88708', '1790', '226050', '21942', '689', '1572', '756', '9624', '\\xa0', '\\xa0', '\\xa0', '\\xa0']\n"
     ]
    }
   ],
   "source": [
    "print(data)"
   ]
  },
  {
   "cell_type": "code",
   "execution_count": 57,
   "metadata": {},
   "outputs": [],
   "source": [
    "data = np.array(data)"
   ]
  },
  {
   "cell_type": "code",
   "execution_count": 58,
   "metadata": {},
   "outputs": [
    {
     "data": {
      "text/plain": [
       "(100,)"
      ]
     },
     "execution_count": 58,
     "metadata": {},
     "output_type": "execute_result"
    }
   ],
   "source": [
    "data.shape"
   ]
  },
  {
   "cell_type": "code",
   "execution_count": 59,
   "metadata": {},
   "outputs": [],
   "source": [
    "data.resize(5,20)"
   ]
  },
  {
   "cell_type": "code",
   "execution_count": 60,
   "metadata": {},
   "outputs": [
    {
     "data": {
      "text/plain": [
       "array([['1', '1', '0', '1', '2', '1', '2', '4', '0', '1', '1', '1', '2',\n",
       "        '2', '1', '1', '0', '1', '1', '1'],\n",
       "       ['14', '15', '13', '14', '14', '10', '9', '14', '12', '16', '23',\n",
       "        '19', '12', '17', '11', '18', '16', '6', '16', '9'],\n",
       "       ['146', '121', '127', '140', '141', '140', '142', '178', '168',\n",
       "        '144', '150', '185', '108', '123', '143', '127', '130', '104',\n",
       "        '117', '135'],\n",
       "       ['1344', '1224', '1201', '1203', '1515', '1693', '1712', '2074',\n",
       "        '1768', '1896', '2209', '2276', '1401', '1453', '1574', '1419',\n",
       "        '1550', '1455', '1674', '1492'],\n",
       "       ['231', '21357', '1685', '33819', '298101', '87992', '6605',\n",
       "        '708', '88708', '1790', '226050', '21942', '689', '1572', '756',\n",
       "        '9624', '\\xa0', '\\xa0', '\\xa0', '\\xa0']], dtype='<U6')"
      ]
     },
     "execution_count": 60,
     "metadata": {},
     "output_type": "execute_result"
    }
   ],
   "source": [
    "data"
   ]
  },
  {
   "cell_type": "code",
   "execution_count": 65,
   "metadata": {},
   "outputs": [
    {
     "data": {
      "text/html": [
       "<div>\n",
       "<style scoped>\n",
       "    .dataframe tbody tr th:only-of-type {\n",
       "        vertical-align: middle;\n",
       "    }\n",
       "\n",
       "    .dataframe tbody tr th {\n",
       "        vertical-align: top;\n",
       "    }\n",
       "\n",
       "    .dataframe thead th {\n",
       "        text-align: right;\n",
       "    }\n",
       "</style>\n",
       "<table border=\"1\" class=\"dataframe\">\n",
       "  <thead>\n",
       "    <tr style=\"text-align: right;\">\n",
       "      <th></th>\n",
       "      <th>2000</th>\n",
       "      <th>2001</th>\n",
       "      <th>2002</th>\n",
       "      <th>2003</th>\n",
       "      <th>2004</th>\n",
       "      <th>2005</th>\n",
       "      <th>2006</th>\n",
       "      <th>2007</th>\n",
       "      <th>2008</th>\n",
       "      <th>2009</th>\n",
       "      <th>2010</th>\n",
       "      <th>2011</th>\n",
       "      <th>2012</th>\n",
       "      <th>2013</th>\n",
       "      <th>2014</th>\n",
       "      <th>2015</th>\n",
       "      <th>2016</th>\n",
       "      <th>2017</th>\n",
       "      <th>2018</th>\n",
       "      <th>2019</th>\n",
       "    </tr>\n",
       "  </thead>\n",
       "  <tbody>\n",
       "    <tr>\n",
       "      <th>8.0+</th>\n",
       "      <td>1</td>\n",
       "      <td>1</td>\n",
       "      <td>0</td>\n",
       "      <td>1</td>\n",
       "      <td>2</td>\n",
       "      <td>1</td>\n",
       "      <td>2</td>\n",
       "      <td>4</td>\n",
       "      <td>0</td>\n",
       "      <td>1</td>\n",
       "      <td>1</td>\n",
       "      <td>1</td>\n",
       "      <td>2</td>\n",
       "      <td>2</td>\n",
       "      <td>1</td>\n",
       "      <td>1</td>\n",
       "      <td>0</td>\n",
       "      <td>1</td>\n",
       "      <td>1</td>\n",
       "      <td>1</td>\n",
       "    </tr>\n",
       "    <tr>\n",
       "      <th>7–7.9</th>\n",
       "      <td>14</td>\n",
       "      <td>15</td>\n",
       "      <td>13</td>\n",
       "      <td>14</td>\n",
       "      <td>14</td>\n",
       "      <td>10</td>\n",
       "      <td>9</td>\n",
       "      <td>14</td>\n",
       "      <td>12</td>\n",
       "      <td>16</td>\n",
       "      <td>23</td>\n",
       "      <td>19</td>\n",
       "      <td>12</td>\n",
       "      <td>17</td>\n",
       "      <td>11</td>\n",
       "      <td>18</td>\n",
       "      <td>16</td>\n",
       "      <td>6</td>\n",
       "      <td>16</td>\n",
       "      <td>9</td>\n",
       "    </tr>\n",
       "    <tr>\n",
       "      <th>6–6.9</th>\n",
       "      <td>146</td>\n",
       "      <td>121</td>\n",
       "      <td>127</td>\n",
       "      <td>140</td>\n",
       "      <td>141</td>\n",
       "      <td>140</td>\n",
       "      <td>142</td>\n",
       "      <td>178</td>\n",
       "      <td>168</td>\n",
       "      <td>144</td>\n",
       "      <td>150</td>\n",
       "      <td>185</td>\n",
       "      <td>108</td>\n",
       "      <td>123</td>\n",
       "      <td>143</td>\n",
       "      <td>127</td>\n",
       "      <td>130</td>\n",
       "      <td>104</td>\n",
       "      <td>117</td>\n",
       "      <td>135</td>\n",
       "    </tr>\n",
       "    <tr>\n",
       "      <th>5–5.9</th>\n",
       "      <td>1344</td>\n",
       "      <td>1224</td>\n",
       "      <td>1201</td>\n",
       "      <td>1203</td>\n",
       "      <td>1515</td>\n",
       "      <td>1693</td>\n",
       "      <td>1712</td>\n",
       "      <td>2074</td>\n",
       "      <td>1768</td>\n",
       "      <td>1896</td>\n",
       "      <td>2209</td>\n",
       "      <td>2276</td>\n",
       "      <td>1401</td>\n",
       "      <td>1453</td>\n",
       "      <td>1574</td>\n",
       "      <td>1419</td>\n",
       "      <td>1550</td>\n",
       "      <td>1455</td>\n",
       "      <td>1674</td>\n",
       "      <td>1492</td>\n",
       "    </tr>\n",
       "    <tr>\n",
       "      <th>EstimatedDeaths</th>\n",
       "      <td>231</td>\n",
       "      <td>21357</td>\n",
       "      <td>1685</td>\n",
       "      <td>33819</td>\n",
       "      <td>298101</td>\n",
       "      <td>87992</td>\n",
       "      <td>6605</td>\n",
       "      <td>708</td>\n",
       "      <td>88708</td>\n",
       "      <td>1790</td>\n",
       "      <td>226050</td>\n",
       "      <td>21942</td>\n",
       "      <td>689</td>\n",
       "      <td>1572</td>\n",
       "      <td>756</td>\n",
       "      <td>9624</td>\n",
       "      <td></td>\n",
       "      <td></td>\n",
       "      <td></td>\n",
       "      <td></td>\n",
       "    </tr>\n",
       "  </tbody>\n",
       "</table>\n",
       "</div>"
      ],
      "text/plain": [
       "                 2000   2001  2002   2003    2004   2005  2006  2007   2008  \\\n",
       "8.0+                1      1     0      1       2      1     2     4      0   \n",
       "7–7.9              14     15    13     14      14     10     9    14     12   \n",
       "6–6.9             146    121   127    140     141    140   142   178    168   \n",
       "5–5.9            1344   1224  1201   1203    1515   1693  1712  2074   1768   \n",
       "EstimatedDeaths   231  21357  1685  33819  298101  87992  6605   708  88708   \n",
       "\n",
       "                 2009    2010   2011  2012  2013  2014  2015  2016  2017  \\\n",
       "8.0+                1       1      1     2     2     1     1     0     1   \n",
       "7–7.9              16      23     19    12    17    11    18    16     6   \n",
       "6–6.9             144     150    185   108   123   143   127   130   104   \n",
       "5–5.9            1896    2209   2276  1401  1453  1574  1419  1550  1455   \n",
       "EstimatedDeaths  1790  226050  21942   689  1572   756  9624               \n",
       "\n",
       "                 2018  2019  \n",
       "8.0+                1     1  \n",
       "7–7.9              16     9  \n",
       "6–6.9             117   135  \n",
       "5–5.9            1674  1492  \n",
       "EstimatedDeaths              "
      ]
     },
     "execution_count": 65,
     "metadata": {},
     "output_type": "execute_result"
    }
   ],
   "source": [
    "pd.DataFrame(data, columns = column_headings, index = row_headings)"
   ]
  },
  {
   "cell_type": "code",
   "execution_count": null,
   "metadata": {},
   "outputs": [],
   "source": []
  }
 ],
 "metadata": {
  "kernelspec": {
   "display_name": "Python 3",
   "language": "python",
   "name": "python3"
  },
  "language_info": {
   "codemirror_mode": {
    "name": "ipython",
    "version": 3
   },
   "file_extension": ".py",
   "mimetype": "text/x-python",
   "name": "python",
   "nbconvert_exporter": "python",
   "pygments_lexer": "ipython3",
   "version": "3.7.3"
  }
 },
 "nbformat": 4,
 "nbformat_minor": 2
}
