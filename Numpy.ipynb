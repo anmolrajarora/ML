{
 "cells": [
  {
   "cell_type": "markdown",
   "metadata": {},
   "source": [
    "# Numpy"
   ]
  },
  {
   "cell_type": "raw",
   "metadata": {},
   "source": [
    "Numpy - Numerical Python\n",
    "Numpy - creating nd-arrays (n-dimensional where n can be 1,2,3,...10\n",
    "1D array, 2D, 3D, ... , 10D"
   ]
  },
  {
   "cell_type": "markdown",
   "metadata": {},
   "source": [
    "### Numpy vs List"
   ]
  },
  {
   "cell_type": "code",
   "execution_count": 1,
   "metadata": {},
   "outputs": [],
   "source": [
    "list1 = [12,23,34,45,56,67,89]"
   ]
  },
  {
   "cell_type": "code",
   "execution_count": 1,
   "metadata": {},
   "outputs": [],
   "source": [
    "import numpy as np"
   ]
  },
  {
   "cell_type": "code",
   "execution_count": 3,
   "metadata": {},
   "outputs": [],
   "source": [
    "arr1 = np.array(list1)"
   ]
  },
  {
   "cell_type": "code",
   "execution_count": 4,
   "metadata": {},
   "outputs": [
    {
     "data": {
      "text/plain": [
       "list"
      ]
     },
     "execution_count": 4,
     "metadata": {},
     "output_type": "execute_result"
    }
   ],
   "source": [
    "type(list1)"
   ]
  },
  {
   "cell_type": "code",
   "execution_count": 5,
   "metadata": {},
   "outputs": [
    {
     "data": {
      "text/plain": [
       "numpy.ndarray"
      ]
     },
     "execution_count": 5,
     "metadata": {},
     "output_type": "execute_result"
    }
   ],
   "source": [
    "type(arr1)"
   ]
  },
  {
   "cell_type": "code",
   "execution_count": 6,
   "metadata": {},
   "outputs": [
    {
     "name": "stdout",
     "output_type": "stream",
     "text": [
      "[12, 23, 34, 45, 56, 67, 89]\n"
     ]
    }
   ],
   "source": [
    "print(list1)"
   ]
  },
  {
   "cell_type": "code",
   "execution_count": 7,
   "metadata": {},
   "outputs": [
    {
     "name": "stdout",
     "output_type": "stream",
     "text": [
      "[12 23 34 45 56 67 89]\n"
     ]
    }
   ],
   "source": [
    "print(arr1)"
   ]
  },
  {
   "cell_type": "code",
   "execution_count": 8,
   "metadata": {},
   "outputs": [],
   "source": [
    "list2 = [12, 23, 34, 45, 56, 67, 89, \"Hello\", \"Bye\"]"
   ]
  },
  {
   "cell_type": "code",
   "execution_count": 9,
   "metadata": {},
   "outputs": [],
   "source": [
    "arr2 = np.array(list2)"
   ]
  },
  {
   "cell_type": "code",
   "execution_count": 10,
   "metadata": {},
   "outputs": [
    {
     "name": "stdout",
     "output_type": "stream",
     "text": [
      "[12, 23, 34, 45, 56, 67, 89, 'Hello', 'Bye']\n"
     ]
    }
   ],
   "source": [
    "print(list2)"
   ]
  },
  {
   "cell_type": "code",
   "execution_count": 11,
   "metadata": {},
   "outputs": [
    {
     "name": "stdout",
     "output_type": "stream",
     "text": [
      "['12' '23' '34' '45' '56' '67' '89' 'Hello' 'Bye']\n"
     ]
    }
   ],
   "source": [
    "print(arr2)"
   ]
  },
  {
   "cell_type": "code",
   "execution_count": 12,
   "metadata": {},
   "outputs": [],
   "source": [
    "list3 = [12, 23, 34, 45, 56, 67, 89, \"Hello\", \"Bye\", True, False]"
   ]
  },
  {
   "cell_type": "code",
   "execution_count": 13,
   "metadata": {},
   "outputs": [],
   "source": [
    "arr3 = np.array(list3)"
   ]
  },
  {
   "cell_type": "code",
   "execution_count": 14,
   "metadata": {},
   "outputs": [
    {
     "name": "stdout",
     "output_type": "stream",
     "text": [
      "['12' '23' '34' '45' '56' '67' '89' 'Hello' 'Bye' 'True' 'False']\n"
     ]
    }
   ],
   "source": [
    "print(arr3)"
   ]
  },
  {
   "cell_type": "code",
   "execution_count": 15,
   "metadata": {},
   "outputs": [],
   "source": [
    "list4 = [12, 23, 34, 45, 56, 67, 89, True, False]"
   ]
  },
  {
   "cell_type": "code",
   "execution_count": 16,
   "metadata": {},
   "outputs": [],
   "source": [
    "arr4 = np.array(list4)"
   ]
  },
  {
   "cell_type": "code",
   "execution_count": 17,
   "metadata": {},
   "outputs": [
    {
     "name": "stdout",
     "output_type": "stream",
     "text": [
      "[12 23 34 45 56 67 89  1  0]\n"
     ]
    }
   ],
   "source": [
    "print(arr4)"
   ]
  },
  {
   "cell_type": "code",
   "execution_count": 19,
   "metadata": {},
   "outputs": [],
   "source": [
    "list5 = [12, 23, 34, 45, 56, 67, 89.9, True, False]"
   ]
  },
  {
   "cell_type": "code",
   "execution_count": 20,
   "metadata": {},
   "outputs": [],
   "source": [
    "arr5 = np.array(list5)"
   ]
  },
  {
   "cell_type": "code",
   "execution_count": 21,
   "metadata": {},
   "outputs": [
    {
     "name": "stdout",
     "output_type": "stream",
     "text": [
      "[12.  23.  34.  45.  56.  67.  89.9  1.   0. ]\n"
     ]
    }
   ],
   "source": [
    "print(arr5)"
   ]
  },
  {
   "cell_type": "markdown",
   "metadata": {},
   "source": [
    "String > Float > Integer > Boolean"
   ]
  },
  {
   "cell_type": "code",
   "execution_count": 22,
   "metadata": {},
   "outputs": [],
   "source": [
    "list6 = [True, False]"
   ]
  },
  {
   "cell_type": "code",
   "execution_count": 23,
   "metadata": {},
   "outputs": [],
   "source": [
    "arr6 = np.array(list6)"
   ]
  },
  {
   "cell_type": "code",
   "execution_count": 24,
   "metadata": {},
   "outputs": [
    {
     "name": "stdout",
     "output_type": "stream",
     "text": [
      "[ True False]\n"
     ]
    }
   ],
   "source": [
    "print(arr6)"
   ]
  },
  {
   "cell_type": "code",
   "execution_count": 25,
   "metadata": {},
   "outputs": [],
   "source": [
    "import sys"
   ]
  },
  {
   "cell_type": "code",
   "execution_count": 26,
   "metadata": {},
   "outputs": [
    {
     "data": {
      "text/plain": [
       "64"
      ]
     },
     "execution_count": 26,
     "metadata": {},
     "output_type": "execute_result"
    }
   ],
   "source": [
    "sys.getsizeof([])"
   ]
  },
  {
   "cell_type": "code",
   "execution_count": 27,
   "metadata": {},
   "outputs": [
    {
     "data": {
      "text/plain": [
       "96"
      ]
     },
     "execution_count": 27,
     "metadata": {},
     "output_type": "execute_result"
    }
   ],
   "source": [
    "sys.getsizeof(np.array([]))"
   ]
  },
  {
   "cell_type": "code",
   "execution_count": 28,
   "metadata": {},
   "outputs": [],
   "source": [
    "new_list = list(range(100))"
   ]
  },
  {
   "cell_type": "code",
   "execution_count": 29,
   "metadata": {},
   "outputs": [
    {
     "name": "stdout",
     "output_type": "stream",
     "text": [
      "[0, 1, 2, 3, 4, 5, 6, 7, 8, 9, 10, 11, 12, 13, 14, 15, 16, 17, 18, 19, 20, 21, 22, 23, 24, 25, 26, 27, 28, 29, 30, 31, 32, 33, 34, 35, 36, 37, 38, 39, 40, 41, 42, 43, 44, 45, 46, 47, 48, 49, 50, 51, 52, 53, 54, 55, 56, 57, 58, 59, 60, 61, 62, 63, 64, 65, 66, 67, 68, 69, 70, 71, 72, 73, 74, 75, 76, 77, 78, 79, 80, 81, 82, 83, 84, 85, 86, 87, 88, 89, 90, 91, 92, 93, 94, 95, 96, 97, 98, 99]\n"
     ]
    }
   ],
   "source": [
    "print(new_list)"
   ]
  },
  {
   "cell_type": "code",
   "execution_count": 30,
   "metadata": {},
   "outputs": [
    {
     "data": {
      "text/plain": [
       "1008"
      ]
     },
     "execution_count": 30,
     "metadata": {},
     "output_type": "execute_result"
    }
   ],
   "source": [
    "sys.getsizeof(new_list)"
   ]
  },
  {
   "cell_type": "code",
   "execution_count": 31,
   "metadata": {},
   "outputs": [],
   "source": [
    "new_arr = np.array(new_list)"
   ]
  },
  {
   "cell_type": "code",
   "execution_count": 32,
   "metadata": {},
   "outputs": [
    {
     "data": {
      "text/plain": [
       "896"
      ]
     },
     "execution_count": 32,
     "metadata": {},
     "output_type": "execute_result"
    }
   ],
   "source": [
    "sys.getsizeof(new_arr)"
   ]
  },
  {
   "cell_type": "code",
   "execution_count": 33,
   "metadata": {},
   "outputs": [],
   "source": [
    "new_list = list(range(100000))"
   ]
  },
  {
   "cell_type": "code",
   "execution_count": 34,
   "metadata": {},
   "outputs": [
    {
     "data": {
      "text/plain": [
       "900112"
      ]
     },
     "execution_count": 34,
     "metadata": {},
     "output_type": "execute_result"
    }
   ],
   "source": [
    "sys.getsizeof(new_list)"
   ]
  },
  {
   "cell_type": "code",
   "execution_count": 35,
   "metadata": {},
   "outputs": [],
   "source": [
    "new_arr = np.array(new_list)"
   ]
  },
  {
   "cell_type": "code",
   "execution_count": 36,
   "metadata": {},
   "outputs": [
    {
     "data": {
      "text/plain": [
       "800096"
      ]
     },
     "execution_count": 36,
     "metadata": {},
     "output_type": "execute_result"
    }
   ],
   "source": [
    "sys.getsizeof(new_arr)"
   ]
  },
  {
   "cell_type": "markdown",
   "metadata": {},
   "source": [
    "### Ways to create Numpy array"
   ]
  },
  {
   "cell_type": "code",
   "execution_count": 3,
   "metadata": {},
   "outputs": [
    {
     "data": {
      "text/plain": [
       "array([1, 2, 3, 4, 5])"
      ]
     },
     "execution_count": 3,
     "metadata": {},
     "output_type": "execute_result"
    }
   ],
   "source": [
    "#1. Using np.array()\n",
    "list1 = [1,2,3,4,5]\n",
    "arr1 = np.array(list1)\n",
    "arr1"
   ]
  },
  {
   "cell_type": "code",
   "execution_count": 4,
   "metadata": {},
   "outputs": [
    {
     "data": {
      "text/plain": [
       "array([  2,   4,   6,   8,  10,  12,  14,  16,  18,  20,  22,  24,  26,\n",
       "        28,  30,  32,  34,  36,  38,  40,  42,  44,  46,  48,  50,  52,\n",
       "        54,  56,  58,  60,  62,  64,  66,  68,  70,  72,  74,  76,  78,\n",
       "        80,  82,  84,  86,  88,  90,  92,  94,  96,  98, 100])"
      ]
     },
     "execution_count": 4,
     "metadata": {},
     "output_type": "execute_result"
    }
   ],
   "source": [
    "arr2 = np.array([i for i in range(1,101) if i % 2 == 0])\n",
    "arr2"
   ]
  },
  {
   "cell_type": "code",
   "execution_count": 5,
   "metadata": {},
   "outputs": [
    {
     "data": {
      "text/plain": [
       "array([  1,   2,   3,   4,   5,   6,   7,   8,   9,  10,  11,  12,  13,\n",
       "        14,  15,  16,  17,  18,  19,  20,  21,  22,  23,  24,  25,  26,\n",
       "        27,  28,  29,  30,  31,  32,  33,  34,  35,  36,  37,  38,  39,\n",
       "        40,  41,  42,  43,  44,  45,  46,  47,  48,  49,  50,  51,  52,\n",
       "        53,  54,  55,  56,  57,  58,  59,  60,  61,  62,  63,  64,  65,\n",
       "        66,  67,  68,  69,  70,  71,  72,  73,  74,  75,  76,  77,  78,\n",
       "        79,  80,  81,  82,  83,  84,  85,  86,  87,  88,  89,  90,  91,\n",
       "        92,  93,  94,  95,  96,  97,  98,  99, 100])"
      ]
     },
     "execution_count": 5,
     "metadata": {},
     "output_type": "execute_result"
    }
   ],
   "source": [
    "#2. Using np.arange()\n",
    "arr3 = np.arange(1,101)\n",
    "arr3"
   ]
  },
  {
   "cell_type": "code",
   "execution_count": 22,
   "metadata": {},
   "outputs": [
    {
     "data": {
      "text/plain": [
       "array([  1.        ,   3.02040816,   5.04081633,   7.06122449,\n",
       "         9.08163265,  11.10204082,  13.12244898,  15.14285714,\n",
       "        17.16326531,  19.18367347,  21.20408163,  23.2244898 ,\n",
       "        25.24489796,  27.26530612,  29.28571429,  31.30612245,\n",
       "        33.32653061,  35.34693878,  37.36734694,  39.3877551 ,\n",
       "        41.40816327,  43.42857143,  45.44897959,  47.46938776,\n",
       "        49.48979592,  51.51020408,  53.53061224,  55.55102041,\n",
       "        57.57142857,  59.59183673,  61.6122449 ,  63.63265306,\n",
       "        65.65306122,  67.67346939,  69.69387755,  71.71428571,\n",
       "        73.73469388,  75.75510204,  77.7755102 ,  79.79591837,\n",
       "        81.81632653,  83.83673469,  85.85714286,  87.87755102,\n",
       "        89.89795918,  91.91836735,  93.93877551,  95.95918367,\n",
       "        97.97959184, 100.        ])"
      ]
     },
     "execution_count": 22,
     "metadata": {},
     "output_type": "execute_result"
    }
   ],
   "source": [
    "#3. Using linear-space\n",
    "np.linspace(1,100)"
   ]
  },
  {
   "cell_type": "code",
   "execution_count": 23,
   "metadata": {},
   "outputs": [
    {
     "data": {
      "text/plain": [
       "(array([ 1.  ,  4.96,  8.92, 12.88, 16.84, 20.8 , 24.76, 28.72, 32.68,\n",
       "        36.64, 40.6 , 44.56, 48.52, 52.48, 56.44, 60.4 , 64.36, 68.32,\n",
       "        72.28, 76.24, 80.2 , 84.16, 88.12, 92.08, 96.04]), 3.96)"
      ]
     },
     "execution_count": 23,
     "metadata": {},
     "output_type": "execute_result"
    }
   ],
   "source": [
    "np.linspace(1,100,retstep=True,num=25,endpoint=False)"
   ]
  },
  {
   "cell_type": "code",
   "execution_count": 25,
   "metadata": {},
   "outputs": [
    {
     "data": {
      "text/plain": [
       "0.804517323807435"
      ]
     },
     "execution_count": 25,
     "metadata": {},
     "output_type": "execute_result"
    }
   ],
   "source": [
    "#4. Using random values (floating values)\n",
    "np.random.random()"
   ]
  },
  {
   "cell_type": "code",
   "execution_count": 26,
   "metadata": {},
   "outputs": [
    {
     "data": {
      "text/plain": [
       "array([0.94906688, 0.44272291, 0.83163487, 0.09410814, 0.94072588])"
      ]
     },
     "execution_count": 26,
     "metadata": {},
     "output_type": "execute_result"
    }
   ],
   "source": [
    "np.random.random(5)"
   ]
  },
  {
   "cell_type": "code",
   "execution_count": 27,
   "metadata": {},
   "outputs": [
    {
     "data": {
      "text/plain": [
       "array([[0.41664202, 0.44948928, 0.31299785, 0.75541116, 0.17039183],\n",
       "       [0.36460887, 0.53163106, 0.96315302, 0.47464651, 0.07876503],\n",
       "       [0.8977536 , 0.13876116, 0.65934608, 0.68473497, 0.48549275],\n",
       "       [0.91528316, 0.75253616, 0.29080909, 0.8057924 , 0.56503891]])"
      ]
     },
     "execution_count": 27,
     "metadata": {},
     "output_type": "execute_result"
    }
   ],
   "source": [
    "np.random.random((4,5))"
   ]
  },
  {
   "cell_type": "code",
   "execution_count": 28,
   "metadata": {},
   "outputs": [
    {
     "data": {
      "text/plain": [
       "array([[[0.47840068, 0.40323999, 0.56053694, 0.50939841, 0.40323715],\n",
       "        [0.31590502, 0.74601916, 0.21624136, 0.46235789, 0.19464613],\n",
       "        [0.59328281, 0.69520112, 0.30297704, 0.63734283, 0.70504603],\n",
       "        [0.85459604, 0.04989688, 0.96889251, 0.56147463, 0.45874162]],\n",
       "\n",
       "       [[0.52439677, 0.30136199, 0.9296788 , 0.26849275, 0.40749121],\n",
       "        [0.50474749, 0.07400942, 0.9014765 , 0.19780418, 0.92193943],\n",
       "        [0.52054783, 0.06128592, 0.28182119, 0.69884786, 0.69202707],\n",
       "        [0.13299058, 0.4510185 , 0.21731804, 0.500313  , 0.08588395]],\n",
       "\n",
       "       [[0.75683724, 0.71744689, 0.68832404, 0.1498433 , 0.34125445],\n",
       "        [0.81212639, 0.40014538, 0.1478284 , 0.26578703, 0.08558618],\n",
       "        [0.35971508, 0.7716116 , 0.1641019 , 0.73602234, 0.5286221 ],\n",
       "        [0.39865441, 0.05409146, 0.89931484, 0.8006578 , 0.77311057]]])"
      ]
     },
     "execution_count": 28,
     "metadata": {},
     "output_type": "execute_result"
    }
   ],
   "source": [
    "np.random.random((3,4,5))"
   ]
  },
  {
   "cell_type": "code",
   "execution_count": 30,
   "metadata": {},
   "outputs": [
    {
     "data": {
      "text/plain": [
       "array([[[[0.02479164, 0.55453886, 0.67431166, 0.56904956, 0.43482284],\n",
       "         [0.89120151, 0.79764771, 0.55708931, 0.86215947, 0.36823923],\n",
       "         [0.58629041, 0.24748894, 0.13388461, 0.14880368, 0.49506852],\n",
       "         [0.47194915, 0.16439132, 0.00238861, 0.58115877, 0.42864952]],\n",
       "\n",
       "        [[0.6356118 , 0.56851166, 0.19180007, 0.10371946, 0.534553  ],\n",
       "         [0.833712  , 0.37178617, 0.0024297 , 0.70386768, 0.97937415],\n",
       "         [0.90402703, 0.72876224, 0.93214712, 0.69153283, 0.72090895],\n",
       "         [0.9028595 , 0.59536686, 0.42666332, 0.04763033, 0.44379452]],\n",
       "\n",
       "        [[0.89207334, 0.29118826, 0.44686465, 0.03863581, 0.15684859],\n",
       "         [0.19766827, 0.1715397 , 0.75974926, 0.03248255, 0.38817532],\n",
       "         [0.7969742 , 0.90855546, 0.01417756, 0.64698406, 0.17189359],\n",
       "         [0.27987638, 0.06877288, 0.91205069, 0.1322504 , 0.93754618]]],\n",
       "\n",
       "\n",
       "       [[[0.06608823, 0.12780961, 0.7370646 , 0.47344059, 0.31606049],\n",
       "         [0.05833687, 0.13694016, 0.27340494, 0.74478855, 0.95698732],\n",
       "         [0.22005061, 0.93745596, 0.63095212, 0.60340339, 0.82646942],\n",
       "         [0.9872431 , 0.42938743, 0.41339543, 0.62318056, 0.43241718]],\n",
       "\n",
       "        [[0.07231619, 0.44944134, 0.35345223, 0.97103119, 0.60341464],\n",
       "         [0.06995344, 0.56749938, 0.77183673, 0.11803866, 0.51664443],\n",
       "         [0.75585767, 0.76725486, 0.38499418, 0.42251752, 0.38602098],\n",
       "         [0.23505969, 0.62624308, 0.63715913, 0.43929988, 0.16652598]],\n",
       "\n",
       "        [[0.39468631, 0.08636416, 0.34529567, 0.47553827, 0.90685907],\n",
       "         [0.54026339, 0.78455325, 0.06427387, 0.69124184, 0.22606608],\n",
       "         [0.63665246, 0.16548739, 0.61763166, 0.13522081, 0.50881458],\n",
       "         [0.58317564, 0.05137902, 0.14493431, 0.60677473, 0.09458485]]]])"
      ]
     },
     "execution_count": 30,
     "metadata": {},
     "output_type": "execute_result"
    }
   ],
   "source": [
    "np.random.random((2,3,4,5))"
   ]
  },
  {
   "cell_type": "code",
   "execution_count": 37,
   "metadata": {},
   "outputs": [],
   "source": [
    "#5. Generating same random numbers everywhere\n",
    "np.random.seed(5)"
   ]
  },
  {
   "cell_type": "code",
   "execution_count": 38,
   "metadata": {},
   "outputs": [
    {
     "data": {
      "text/plain": [
       "0.22199317108973948"
      ]
     },
     "execution_count": 38,
     "metadata": {},
     "output_type": "execute_result"
    }
   ],
   "source": [
    "np.random.random()"
   ]
  },
  {
   "cell_type": "code",
   "execution_count": 39,
   "metadata": {},
   "outputs": [
    {
     "data": {
      "text/plain": [
       "array([0.87073231, 0.20671916, 0.91861091, 0.48841119, 0.61174386])"
      ]
     },
     "execution_count": 39,
     "metadata": {},
     "output_type": "execute_result"
    }
   ],
   "source": [
    "np.random.random(5)"
   ]
  },
  {
   "cell_type": "code",
   "execution_count": 45,
   "metadata": {},
   "outputs": [
    {
     "data": {
      "text/plain": [
       "80"
      ]
     },
     "execution_count": 45,
     "metadata": {},
     "output_type": "execute_result"
    }
   ],
   "source": [
    "#6. Generating random integers\n",
    "np.random.randint(100)"
   ]
  },
  {
   "cell_type": "code",
   "execution_count": 48,
   "metadata": {},
   "outputs": [
    {
     "data": {
      "text/plain": [
       "213"
      ]
     },
     "execution_count": 48,
     "metadata": {},
     "output_type": "execute_result"
    }
   ],
   "source": [
    "np.random.randint(100,1000)"
   ]
  },
  {
   "cell_type": "code",
   "execution_count": 49,
   "metadata": {},
   "outputs": [
    {
     "data": {
      "text/plain": [
       "array([537, 180, 127, 144, 305])"
      ]
     },
     "execution_count": 49,
     "metadata": {},
     "output_type": "execute_result"
    }
   ],
   "source": [
    "np.random.randint(100,1000, (5))"
   ]
  },
  {
   "cell_type": "code",
   "execution_count": 50,
   "metadata": {},
   "outputs": [
    {
     "data": {
      "text/plain": [
       "array([[815, 165, 531, 642, 186],\n",
       "       [737, 246, 354, 477, 749],\n",
       "       [462, 141, 546, 997, 310],\n",
       "       [203, 244, 105, 926, 868]])"
      ]
     },
     "execution_count": 50,
     "metadata": {},
     "output_type": "execute_result"
    }
   ],
   "source": [
    "np.random.randint(100,1000, (4,5))"
   ]
  },
  {
   "cell_type": "code",
   "execution_count": 51,
   "metadata": {},
   "outputs": [
    {
     "data": {
      "text/plain": [
       "array([[[210, 776, 973, 791, 639],\n",
       "        [899, 870, 424, 394, 205],\n",
       "        [247, 374, 981, 345, 235],\n",
       "        [968, 464, 721, 770, 290]],\n",
       "\n",
       "       [[879, 591, 935, 480, 549],\n",
       "        [283, 487, 703, 178, 901],\n",
       "        [829, 953, 491, 628, 194],\n",
       "        [114, 899, 365, 650, 915]],\n",
       "\n",
       "       [[244, 489, 518, 785, 799],\n",
       "        [508, 497, 474, 335, 844],\n",
       "        [131, 132, 432, 272, 498],\n",
       "        [275, 194, 950, 996, 235]]])"
      ]
     },
     "execution_count": 51,
     "metadata": {},
     "output_type": "execute_result"
    }
   ],
   "source": [
    "np.random.randint(100,1000, (3,4,5))"
   ]
  },
  {
   "cell_type": "markdown",
   "metadata": {},
   "source": [
    "### Numpy Methods"
   ]
  },
  {
   "cell_type": "code",
   "execution_count": 57,
   "metadata": {},
   "outputs": [],
   "source": [
    "new_arr = np.random.randint(10,1000,100)"
   ]
  },
  {
   "cell_type": "code",
   "execution_count": 58,
   "metadata": {},
   "outputs": [
    {
     "data": {
      "text/plain": [
       "array([700, 608, 541, 576, 930, 714,  87, 595, 907, 275, 330, 626, 417,\n",
       "       177, 899, 718, 761, 475, 101, 558, 124, 875,  97,  79, 262, 942,\n",
       "       924, 300,  40, 599, 619, 892, 813,  39, 779,  92,  30, 243, 650,\n",
       "       635, 940, 216, 445, 424, 818,  84, 463, 345, 191, 894, 413, 440,\n",
       "       164, 771, 607, 227, 768, 579, 239, 411, 872, 123, 202, 422, 914,\n",
       "       903, 152, 202, 297, 183, 655, 420, 947, 221, 294, 469, 557, 506,\n",
       "       989, 961, 781, 545, 909, 105,  12, 576, 999, 688, 412, 377, 977,\n",
       "       202, 941, 390, 385, 559,  11, 424, 101, 681])"
      ]
     },
     "execution_count": 58,
     "metadata": {},
     "output_type": "execute_result"
    }
   ],
   "source": [
    "new_arr"
   ]
  },
  {
   "cell_type": "code",
   "execution_count": 56,
   "metadata": {},
   "outputs": [],
   "source": [
    "new_arr.sort()"
   ]
  },
  {
   "cell_type": "code",
   "execution_count": 55,
   "metadata": {},
   "outputs": [
    {
     "data": {
      "text/plain": [
       "array([ 23,  32,  39,  46,  54,  73,  74,  80,  92, 104, 110, 120, 140,\n",
       "       146, 156, 170, 179, 181, 187, 190, 210, 212, 220, 224, 226, 230,\n",
       "       235, 253, 265, 267, 270, 274, 280, 281, 286, 286, 318, 347, 382,\n",
       "       388, 403, 463, 465, 469, 484, 486, 501, 507, 517, 521, 530, 538,\n",
       "       544, 553, 557, 557, 579, 594, 616, 642, 643, 648, 665, 669, 670,\n",
       "       682, 682, 687, 695, 710, 712, 715, 716, 722, 729, 732, 737, 755,\n",
       "       761, 778, 788, 790, 836, 837, 847, 848, 869, 870, 889, 902, 908,\n",
       "       911, 928, 929, 955, 970, 989, 989, 992, 997])"
      ]
     },
     "execution_count": 55,
     "metadata": {},
     "output_type": "execute_result"
    }
   ],
   "source": [
    "new_arr"
   ]
  },
  {
   "cell_type": "code",
   "execution_count": 65,
   "metadata": {},
   "outputs": [],
   "source": [
    "new_arr = np.random.randint(10,1000,(3,4,5))"
   ]
  },
  {
   "cell_type": "code",
   "execution_count": 66,
   "metadata": {},
   "outputs": [
    {
     "data": {
      "text/plain": [
       "60"
      ]
     },
     "execution_count": 66,
     "metadata": {},
     "output_type": "execute_result"
    }
   ],
   "source": [
    "new_arr.size"
   ]
  },
  {
   "cell_type": "code",
   "execution_count": 67,
   "metadata": {},
   "outputs": [
    {
     "data": {
      "text/plain": [
       "array([[[399, 854, 771, 251, 439],\n",
       "        [ 89, 162,  48, 278, 907],\n",
       "        [ 15, 539, 533,  98, 386],\n",
       "        [247, 706, 221, 548, 381]],\n",
       "\n",
       "       [[308, 835, 225, 314, 501],\n",
       "        [274, 532,  49, 781, 950],\n",
       "        [846, 360,  65, 937, 676],\n",
       "        [106, 791, 214, 503, 192]],\n",
       "\n",
       "       [[349, 916, 171, 751, 619],\n",
       "        [714, 765, 886, 942, 582],\n",
       "        [ 10, 338, 509, 290, 164],\n",
       "        [ 15, 423, 201,  28, 321]]])"
      ]
     },
     "execution_count": 67,
     "metadata": {},
     "output_type": "execute_result"
    }
   ],
   "source": [
    "new_arr"
   ]
  },
  {
   "cell_type": "code",
   "execution_count": 68,
   "metadata": {},
   "outputs": [
    {
     "data": {
      "text/plain": [
       "(3, 4, 5)"
      ]
     },
     "execution_count": 68,
     "metadata": {},
     "output_type": "execute_result"
    }
   ],
   "source": [
    "new_arr.shape"
   ]
  },
  {
   "cell_type": "code",
   "execution_count": 69,
   "metadata": {},
   "outputs": [],
   "source": [
    "new_arr.resize(6,10) #reshapes the original array"
   ]
  },
  {
   "cell_type": "code",
   "execution_count": 70,
   "metadata": {},
   "outputs": [
    {
     "data": {
      "text/plain": [
       "array([[399, 854, 771, 251, 439,  89, 162,  48, 278, 907],\n",
       "       [ 15, 539, 533,  98, 386, 247, 706, 221, 548, 381],\n",
       "       [308, 835, 225, 314, 501, 274, 532,  49, 781, 950],\n",
       "       [846, 360,  65, 937, 676, 106, 791, 214, 503, 192],\n",
       "       [349, 916, 171, 751, 619, 714, 765, 886, 942, 582],\n",
       "       [ 10, 338, 509, 290, 164,  15, 423, 201,  28, 321]])"
      ]
     },
     "execution_count": 70,
     "metadata": {},
     "output_type": "execute_result"
    }
   ],
   "source": [
    "new_arr"
   ]
  },
  {
   "cell_type": "code",
   "execution_count": 72,
   "metadata": {},
   "outputs": [
    {
     "data": {
      "text/plain": [
       "(6, 10)"
      ]
     },
     "execution_count": 72,
     "metadata": {},
     "output_type": "execute_result"
    }
   ],
   "source": [
    "new_arr.shape"
   ]
  },
  {
   "cell_type": "code",
   "execution_count": 71,
   "metadata": {},
   "outputs": [
    {
     "data": {
      "text/plain": [
       "array([[399, 854, 771, 251, 439,  89],\n",
       "       [162,  48, 278, 907,  15, 539],\n",
       "       [533,  98, 386, 247, 706, 221],\n",
       "       [548, 381, 308, 835, 225, 314],\n",
       "       [501, 274, 532,  49, 781, 950],\n",
       "       [846, 360,  65, 937, 676, 106],\n",
       "       [791, 214, 503, 192, 349, 916],\n",
       "       [171, 751, 619, 714, 765, 886],\n",
       "       [942, 582,  10, 338, 509, 290],\n",
       "       [164,  15, 423, 201,  28, 321]])"
      ]
     },
     "execution_count": 71,
     "metadata": {},
     "output_type": "execute_result"
    }
   ],
   "source": [
    "new_arr.reshape(10,6)  #reshape the copy of array"
   ]
  },
  {
   "cell_type": "code",
   "execution_count": 73,
   "metadata": {},
   "outputs": [
    {
     "data": {
      "text/plain": [
       "(6, 10)"
      ]
     },
     "execution_count": 73,
     "metadata": {},
     "output_type": "execute_result"
    }
   ],
   "source": [
    "new_arr.shape"
   ]
  },
  {
   "cell_type": "code",
   "execution_count": 74,
   "metadata": {},
   "outputs": [
    {
     "data": {
      "text/plain": [
       "array([399, 854, 771, 251, 439,  89, 162,  48, 278, 907,  15, 539, 533,\n",
       "        98, 386, 247, 706, 221, 548, 381, 308, 835, 225, 314, 501, 274,\n",
       "       532,  49, 781, 950, 846, 360,  65, 937, 676, 106, 791, 214, 503,\n",
       "       192, 349, 916, 171, 751, 619, 714, 765, 886, 942, 582,  10, 338,\n",
       "       509, 290, 164,  15, 423, 201,  28, 321])"
      ]
     },
     "execution_count": 74,
     "metadata": {},
     "output_type": "execute_result"
    }
   ],
   "source": [
    "new_arr.ravel() #converts 2-d or 3-d array into 1-d"
   ]
  },
  {
   "cell_type": "code",
   "execution_count": 75,
   "metadata": {},
   "outputs": [
    {
     "data": {
      "text/plain": [
       "2"
      ]
     },
     "execution_count": 75,
     "metadata": {},
     "output_type": "execute_result"
    }
   ],
   "source": [
    "new_arr.ndim"
   ]
  },
  {
   "cell_type": "code",
   "execution_count": 76,
   "metadata": {},
   "outputs": [],
   "source": [
    "new_arr.resize(3,2,10)"
   ]
  },
  {
   "cell_type": "code",
   "execution_count": 77,
   "metadata": {},
   "outputs": [
    {
     "data": {
      "text/plain": [
       "array([[[399, 854, 771, 251, 439,  89, 162,  48, 278, 907],\n",
       "        [ 15, 539, 533,  98, 386, 247, 706, 221, 548, 381]],\n",
       "\n",
       "       [[308, 835, 225, 314, 501, 274, 532,  49, 781, 950],\n",
       "        [846, 360,  65, 937, 676, 106, 791, 214, 503, 192]],\n",
       "\n",
       "       [[349, 916, 171, 751, 619, 714, 765, 886, 942, 582],\n",
       "        [ 10, 338, 509, 290, 164,  15, 423, 201,  28, 321]]])"
      ]
     },
     "execution_count": 77,
     "metadata": {},
     "output_type": "execute_result"
    }
   ],
   "source": [
    "new_arr"
   ]
  },
  {
   "cell_type": "code",
   "execution_count": 78,
   "metadata": {},
   "outputs": [
    {
     "data": {
      "text/plain": [
       "3"
      ]
     },
     "execution_count": 78,
     "metadata": {},
     "output_type": "execute_result"
    }
   ],
   "source": [
    "new_arr.ndim"
   ]
  },
  {
   "cell_type": "code",
   "execution_count": 79,
   "metadata": {},
   "outputs": [
    {
     "data": {
      "text/plain": [
       "10"
      ]
     },
     "execution_count": 79,
     "metadata": {},
     "output_type": "execute_result"
    }
   ],
   "source": [
    "new_arr.min()"
   ]
  },
  {
   "cell_type": "code",
   "execution_count": 80,
   "metadata": {},
   "outputs": [
    {
     "data": {
      "text/plain": [
       "950"
      ]
     },
     "execution_count": 80,
     "metadata": {},
     "output_type": "execute_result"
    }
   ],
   "source": [
    "new_arr.max()"
   ]
  },
  {
   "cell_type": "code",
   "execution_count": 81,
   "metadata": {},
   "outputs": [
    {
     "data": {
      "text/plain": [
       "438.75"
      ]
     },
     "execution_count": 81,
     "metadata": {},
     "output_type": "execute_result"
    }
   ],
   "source": [
    "new_arr.mean()"
   ]
  },
  {
   "cell_type": "code",
   "execution_count": 82,
   "metadata": {},
   "outputs": [
    {
     "data": {
      "text/plain": [
       "array([399, 854, 771, 251, 439,  89, 162,  48, 278, 907,  15, 539, 533,\n",
       "        98, 386, 247, 706, 221, 548, 381, 308, 835, 225, 314, 501, 274,\n",
       "       532,  49, 781, 950, 846, 360,  65, 937, 676, 106, 791, 214, 503,\n",
       "       192, 349, 916, 171, 751, 619, 714, 765, 886, 942, 582,  10, 338,\n",
       "       509, 290, 164,  15, 423, 201,  28, 321])"
      ]
     },
     "execution_count": 82,
     "metadata": {},
     "output_type": "execute_result"
    }
   ],
   "source": [
    "new_arr.flatten()"
   ]
  },
  {
   "cell_type": "code",
   "execution_count": 84,
   "metadata": {},
   "outputs": [],
   "source": [
    "new_arr.resize(60)"
   ]
  },
  {
   "cell_type": "code",
   "execution_count": 85,
   "metadata": {},
   "outputs": [
    {
     "data": {
      "text/plain": [
       "array([399, 854, 771, 251, 439,  89, 162,  48, 278, 907,  15, 539, 533,\n",
       "        98, 386, 247, 706, 221, 548, 381, 308, 835, 225, 314, 501, 274,\n",
       "       532,  49, 781, 950, 846, 360,  65, 937, 676, 106, 791, 214, 503,\n",
       "       192, 349, 916, 171, 751, 619, 714, 765, 886, 942, 582,  10, 338,\n",
       "       509, 290, 164,  15, 423, 201,  28, 321])"
      ]
     },
     "execution_count": 85,
     "metadata": {},
     "output_type": "execute_result"
    }
   ],
   "source": [
    "new_arr"
   ]
  },
  {
   "cell_type": "code",
   "execution_count": 86,
   "metadata": {},
   "outputs": [
    {
     "data": {
      "text/plain": [
       "array([50, 55, 10, 58,  7, 27, 32,  5, 13, 35,  6, 54, 42, 39, 57, 37, 17,\n",
       "       22, 15,  3, 25,  8, 53, 20, 23, 59, 51, 40, 31, 19, 14,  0, 56,  4,\n",
       "       24, 38, 52, 26, 12, 11, 18, 49, 44, 34, 16, 45, 43, 46,  2, 28, 36,\n",
       "       21, 30,  1, 47,  9, 41, 33, 48, 29])"
      ]
     },
     "execution_count": 86,
     "metadata": {},
     "output_type": "execute_result"
    }
   ],
   "source": [
    "new_arr.argsort()"
   ]
  },
  {
   "cell_type": "code",
   "execution_count": 87,
   "metadata": {},
   "outputs": [
    {
     "data": {
      "text/plain": [
       "10"
      ]
     },
     "execution_count": 87,
     "metadata": {},
     "output_type": "execute_result"
    }
   ],
   "source": [
    "new_arr[50]"
   ]
  },
  {
   "cell_type": "code",
   "execution_count": 88,
   "metadata": {},
   "outputs": [
    {
     "data": {
      "text/plain": [
       "950"
      ]
     },
     "execution_count": 88,
     "metadata": {},
     "output_type": "execute_result"
    }
   ],
   "source": [
    "new_arr[29]"
   ]
  },
  {
   "cell_type": "code",
   "execution_count": 89,
   "metadata": {},
   "outputs": [
    {
     "data": {
      "text/plain": [
       "50"
      ]
     },
     "execution_count": 89,
     "metadata": {},
     "output_type": "execute_result"
    }
   ],
   "source": [
    "new_arr.argmin()"
   ]
  },
  {
   "cell_type": "code",
   "execution_count": 90,
   "metadata": {},
   "outputs": [
    {
     "data": {
      "text/plain": [
       "29"
      ]
     },
     "execution_count": 90,
     "metadata": {},
     "output_type": "execute_result"
    }
   ],
   "source": [
    "new_arr.argmax()"
   ]
  },
  {
   "cell_type": "code",
   "execution_count": null,
   "metadata": {},
   "outputs": [],
   "source": []
  }
 ],
 "metadata": {
  "kernelspec": {
   "display_name": "Python 3",
   "language": "python",
   "name": "python3"
  },
  "language_info": {
   "codemirror_mode": {
    "name": "ipython",
    "version": 3
   },
   "file_extension": ".py",
   "mimetype": "text/x-python",
   "name": "python",
   "nbconvert_exporter": "python",
   "pygments_lexer": "ipython3",
   "version": "3.7.3"
  }
 },
 "nbformat": 4,
 "nbformat_minor": 2
}
